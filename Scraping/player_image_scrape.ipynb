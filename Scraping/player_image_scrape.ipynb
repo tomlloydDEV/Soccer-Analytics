{
 "cells": [
  {
   "cell_type": "code",
   "execution_count": 7,
   "metadata": {},
   "outputs": [
    {
     "ename": "StaleElementReferenceException",
     "evalue": "Message: stale element reference: stale element not found\n  (Session info: chrome-headless-shell=121.0.6167.161); For documentation on this error, please visit: https://www.selenium.dev/documentation/webdriver/troubleshooting/errors#stale-element-reference-exception\nStacktrace:\n\tGetHandleVerifier [0x00007FF6169C5E42+3538674]\n\t(No symbol) [0x00007FF6165E4C02]\n\t(No symbol) [0x00007FF616495AEB]\n\t(No symbol) [0x00007FF6164A514B]\n\t(No symbol) [0x00007FF61649B92A]\n\t(No symbol) [0x00007FF616499D10]\n\t(No symbol) [0x00007FF61649D150]\n\t(No symbol) [0x00007FF61649D210]\n\t(No symbol) [0x00007FF6164D723B]\n\t(No symbol) [0x00007FF6164FF0AA]\n\t(No symbol) [0x00007FF6164D124A]\n\t(No symbol) [0x00007FF6164FF2C0]\n\t(No symbol) [0x00007FF61651BDE3]\n\t(No symbol) [0x00007FF6164FEE53]\n\t(No symbol) [0x00007FF6164CF514]\n\t(No symbol) [0x00007FF6164D0631]\n\tGetHandleVerifier [0x00007FF6169F6CAD+3738973]\n\tGetHandleVerifier [0x00007FF616A4C506+4089270]\n\tGetHandleVerifier [0x00007FF616A44823+4057299]\n\tGetHandleVerifier [0x00007FF616715C49+720121]\n\t(No symbol) [0x00007FF6165F126F]\n\t(No symbol) [0x00007FF6165EC304]\n\t(No symbol) [0x00007FF6165EC432]\n\t(No symbol) [0x00007FF6165DBD04]\n\tBaseThreadInitThunk [0x00007FFBDAC1257D+29]\n\tRtlUserThreadStart [0x00007FFBDC24AA58+40]\n",
     "output_type": "error",
     "traceback": [
      "\u001b[1;31m---------------------------------------------------------------------------\u001b[0m",
      "\u001b[1;31mStaleElementReferenceException\u001b[0m            Traceback (most recent call last)",
      "Cell \u001b[1;32mIn[7], line 49\u001b[0m\n\u001b[0;32m     47\u001b[0m \u001b[38;5;66;03m# Download the image\u001b[39;00m\n\u001b[0;32m     48\u001b[0m img_data \u001b[38;5;241m=\u001b[39m requests\u001b[38;5;241m.\u001b[39mget(img_url)\u001b[38;5;241m.\u001b[39mcontent\n\u001b[1;32m---> 49\u001b[0m player_name \u001b[38;5;241m=\u001b[39m \u001b[43mlink\u001b[49m\u001b[38;5;241;43m.\u001b[39;49m\u001b[43mtext\u001b[49m\u001b[38;5;241m.\u001b[39mstrip()\u001b[38;5;241m.\u001b[39mreplace(\u001b[38;5;124m'\u001b[39m\u001b[38;5;124m \u001b[39m\u001b[38;5;124m'\u001b[39m, \u001b[38;5;124m'\u001b[39m\u001b[38;5;124m_\u001b[39m\u001b[38;5;124m'\u001b[39m)\n\u001b[0;32m     50\u001b[0m \u001b[38;5;28;01mwith\u001b[39;00m \u001b[38;5;28mopen\u001b[39m(os\u001b[38;5;241m.\u001b[39mpath\u001b[38;5;241m.\u001b[39mjoin(output_dir, \u001b[38;5;124mf\u001b[39m\u001b[38;5;124m\"\u001b[39m\u001b[38;5;132;01m{\u001b[39;00mplayer_name\u001b[38;5;132;01m}\u001b[39;00m\u001b[38;5;124m.jpg\u001b[39m\u001b[38;5;124m\"\u001b[39m), \u001b[38;5;124m'\u001b[39m\u001b[38;5;124mwb\u001b[39m\u001b[38;5;124m'\u001b[39m) \u001b[38;5;28;01mas\u001b[39;00m f:\n\u001b[0;32m     51\u001b[0m     f\u001b[38;5;241m.\u001b[39mwrite(img_data)\n",
      "File \u001b[1;32mc:\\Users\\Tom11\\AppData\\Local\\Programs\\Python\\Python311\\Lib\\site-packages\\selenium\\webdriver\\remote\\webelement.py:89\u001b[0m, in \u001b[0;36mWebElement.text\u001b[1;34m(self)\u001b[0m\n\u001b[0;32m     86\u001b[0m \u001b[38;5;129m@property\u001b[39m\n\u001b[0;32m     87\u001b[0m \u001b[38;5;28;01mdef\u001b[39;00m \u001b[38;5;21mtext\u001b[39m(\u001b[38;5;28mself\u001b[39m) \u001b[38;5;241m-\u001b[39m\u001b[38;5;241m>\u001b[39m \u001b[38;5;28mstr\u001b[39m:\n\u001b[0;32m     88\u001b[0m \u001b[38;5;250m    \u001b[39m\u001b[38;5;124;03m\"\"\"The text of the element.\"\"\"\u001b[39;00m\n\u001b[1;32m---> 89\u001b[0m     \u001b[38;5;28;01mreturn\u001b[39;00m \u001b[38;5;28;43mself\u001b[39;49m\u001b[38;5;241;43m.\u001b[39;49m\u001b[43m_execute\u001b[49m\u001b[43m(\u001b[49m\u001b[43mCommand\u001b[49m\u001b[38;5;241;43m.\u001b[39;49m\u001b[43mGET_ELEMENT_TEXT\u001b[49m\u001b[43m)\u001b[49m[\u001b[38;5;124m\"\u001b[39m\u001b[38;5;124mvalue\u001b[39m\u001b[38;5;124m\"\u001b[39m]\n",
      "File \u001b[1;32mc:\\Users\\Tom11\\AppData\\Local\\Programs\\Python\\Python311\\Lib\\site-packages\\selenium\\webdriver\\remote\\webelement.py:394\u001b[0m, in \u001b[0;36mWebElement._execute\u001b[1;34m(self, command, params)\u001b[0m\n\u001b[0;32m    392\u001b[0m     params \u001b[38;5;241m=\u001b[39m {}\n\u001b[0;32m    393\u001b[0m params[\u001b[38;5;124m\"\u001b[39m\u001b[38;5;124mid\u001b[39m\u001b[38;5;124m\"\u001b[39m] \u001b[38;5;241m=\u001b[39m \u001b[38;5;28mself\u001b[39m\u001b[38;5;241m.\u001b[39m_id\n\u001b[1;32m--> 394\u001b[0m \u001b[38;5;28;01mreturn\u001b[39;00m \u001b[38;5;28;43mself\u001b[39;49m\u001b[38;5;241;43m.\u001b[39;49m\u001b[43m_parent\u001b[49m\u001b[38;5;241;43m.\u001b[39;49m\u001b[43mexecute\u001b[49m\u001b[43m(\u001b[49m\u001b[43mcommand\u001b[49m\u001b[43m,\u001b[49m\u001b[43m \u001b[49m\u001b[43mparams\u001b[49m\u001b[43m)\u001b[49m\n",
      "File \u001b[1;32mc:\\Users\\Tom11\\AppData\\Local\\Programs\\Python\\Python311\\Lib\\site-packages\\selenium\\webdriver\\remote\\webdriver.py:344\u001b[0m, in \u001b[0;36mWebDriver.execute\u001b[1;34m(self, driver_command, params)\u001b[0m\n\u001b[0;32m    342\u001b[0m response \u001b[38;5;241m=\u001b[39m \u001b[38;5;28mself\u001b[39m\u001b[38;5;241m.\u001b[39mcommand_executor\u001b[38;5;241m.\u001b[39mexecute(driver_command, params)\n\u001b[0;32m    343\u001b[0m \u001b[38;5;28;01mif\u001b[39;00m response:\n\u001b[1;32m--> 344\u001b[0m     \u001b[38;5;28;43mself\u001b[39;49m\u001b[38;5;241;43m.\u001b[39;49m\u001b[43merror_handler\u001b[49m\u001b[38;5;241;43m.\u001b[39;49m\u001b[43mcheck_response\u001b[49m\u001b[43m(\u001b[49m\u001b[43mresponse\u001b[49m\u001b[43m)\u001b[49m\n\u001b[0;32m    345\u001b[0m     response[\u001b[38;5;124m\"\u001b[39m\u001b[38;5;124mvalue\u001b[39m\u001b[38;5;124m\"\u001b[39m] \u001b[38;5;241m=\u001b[39m \u001b[38;5;28mself\u001b[39m\u001b[38;5;241m.\u001b[39m_unwrap_value(response\u001b[38;5;241m.\u001b[39mget(\u001b[38;5;124m\"\u001b[39m\u001b[38;5;124mvalue\u001b[39m\u001b[38;5;124m\"\u001b[39m, \u001b[38;5;28;01mNone\u001b[39;00m))\n\u001b[0;32m    346\u001b[0m     \u001b[38;5;28;01mreturn\u001b[39;00m response\n",
      "File \u001b[1;32mc:\\Users\\Tom11\\AppData\\Local\\Programs\\Python\\Python311\\Lib\\site-packages\\selenium\\webdriver\\remote\\errorhandler.py:229\u001b[0m, in \u001b[0;36mErrorHandler.check_response\u001b[1;34m(self, response)\u001b[0m\n\u001b[0;32m    227\u001b[0m         alert_text \u001b[38;5;241m=\u001b[39m value[\u001b[38;5;124m\"\u001b[39m\u001b[38;5;124malert\u001b[39m\u001b[38;5;124m\"\u001b[39m]\u001b[38;5;241m.\u001b[39mget(\u001b[38;5;124m\"\u001b[39m\u001b[38;5;124mtext\u001b[39m\u001b[38;5;124m\"\u001b[39m)\n\u001b[0;32m    228\u001b[0m     \u001b[38;5;28;01mraise\u001b[39;00m exception_class(message, screen, stacktrace, alert_text)  \u001b[38;5;66;03m# type: ignore[call-arg]  # mypy is not smart enough here\u001b[39;00m\n\u001b[1;32m--> 229\u001b[0m \u001b[38;5;28;01mraise\u001b[39;00m exception_class(message, screen, stacktrace)\n",
      "\u001b[1;31mStaleElementReferenceException\u001b[0m: Message: stale element reference: stale element not found\n  (Session info: chrome-headless-shell=121.0.6167.161); For documentation on this error, please visit: https://www.selenium.dev/documentation/webdriver/troubleshooting/errors#stale-element-reference-exception\nStacktrace:\n\tGetHandleVerifier [0x00007FF6169C5E42+3538674]\n\t(No symbol) [0x00007FF6165E4C02]\n\t(No symbol) [0x00007FF616495AEB]\n\t(No symbol) [0x00007FF6164A514B]\n\t(No symbol) [0x00007FF61649B92A]\n\t(No symbol) [0x00007FF616499D10]\n\t(No symbol) [0x00007FF61649D150]\n\t(No symbol) [0x00007FF61649D210]\n\t(No symbol) [0x00007FF6164D723B]\n\t(No symbol) [0x00007FF6164FF0AA]\n\t(No symbol) [0x00007FF6164D124A]\n\t(No symbol) [0x00007FF6164FF2C0]\n\t(No symbol) [0x00007FF61651BDE3]\n\t(No symbol) [0x00007FF6164FEE53]\n\t(No symbol) [0x00007FF6164CF514]\n\t(No symbol) [0x00007FF6164D0631]\n\tGetHandleVerifier [0x00007FF6169F6CAD+3738973]\n\tGetHandleVerifier [0x00007FF616A4C506+4089270]\n\tGetHandleVerifier [0x00007FF616A44823+4057299]\n\tGetHandleVerifier [0x00007FF616715C49+720121]\n\t(No symbol) [0x00007FF6165F126F]\n\t(No symbol) [0x00007FF6165EC304]\n\t(No symbol) [0x00007FF6165EC432]\n\t(No symbol) [0x00007FF6165DBD04]\n\tBaseThreadInitThunk [0x00007FFBDAC1257D+29]\n\tRtlUserThreadStart [0x00007FFBDC24AA58+40]\n"
     ]
    }
   ],
   "source": [
    "from selenium import webdriver\n",
    "from selenium.webdriver.common.by import By\n",
    "from bs4 import BeautifulSoup\n",
    "import time\n",
    "import os\n",
    "\n",
    "\n",
    "options = webdriver.ChromeOptions()\n",
    "options.add_argument('--headless')  \n",
    "driver = webdriver.Chrome(options=options)\n",
    "\n",
    "\n",
    "driver.get('https://www.premierleague.com/players')\n",
    "\n",
    "\n",
    "SCROLL_PAUSE_TIME = 2\n",
    "last_height = driver.execute_script(\"return document.body.scrollHeight\")\n",
    "while True:\n",
    "    driver.execute_script(\"window.scrollTo(0, document.body.scrollHeight);\")\n",
    "    time.sleep(SCROLL_PAUSE_TIME)\n",
    "    new_height = driver.execute_script(\"return document.body.scrollHeight\")\n",
    "    if new_height == last_height:\n",
    "        break\n",
    "    last_height = new_height\n",
    "\n",
    "\n",
    "player_links = driver.find_elements(By.CLASS_NAME, 'player__name')\n",
    "\n",
    "\n",
    "output_dir = 'player_images'\n",
    "if not os.path.exists(output_dir):\n",
    "    os.makedirs(output_dir)\n",
    "\n",
    "\n",
    "for i in range(len(player_links)):\n",
    "    # Re-find the player links to avoid StaleElementReferenceException\n",
    "    player_links = driver.find_elements(By.CLASS_NAME, 'player__name')\n",
    "    link = player_links[i]\n",
    "    \n",
    "    player_url = link.get_attribute('href')\n",
    "    driver.get(player_url)\n",
    "    time.sleep(2) \n",
    "    soup = BeautifulSoup(driver.page_source, 'html.parser')\n",
    "    img_tag = soup.find('img', class_='img')\n",
    "    if img_tag:\n",
    "        img_url = img_tag['src']\n",
    "        # Download the image\n",
    "        img_data = requests.get(img_url).content\n",
    "        player_name = link.text.strip().replace(' ', '_')\n",
    "        with open(os.path.join(output_dir, f\"{player_name}.jpg\"), 'wb') as f:\n",
    "            f.write(img_data)\n",
    "\n",
    "\n",
    "# Close the WebDriver\n",
    "driver.quit()\n"
   ]
  }
 ],
 "metadata": {
  "kernelspec": {
   "display_name": "Python 3",
   "language": "python",
   "name": "python3"
  },
  "language_info": {
   "codemirror_mode": {
    "name": "ipython",
    "version": 3
   },
   "file_extension": ".py",
   "mimetype": "text/x-python",
   "name": "python",
   "nbconvert_exporter": "python",
   "pygments_lexer": "ipython3",
   "version": "3.11.5"
  }
 },
 "nbformat": 4,
 "nbformat_minor": 2
}
